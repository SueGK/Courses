{
  "nbformat": 4,
  "nbformat_minor": 0,
  "metadata": {
    "colab": {
      "name": "opencv-BGR-color.ipynb",
      "provenance": []
    },
    "kernelspec": {
      "name": "python3",
      "display_name": "Python 3"
    },
    "language_info": {
      "name": "python"
    },
    "accelerator": "GPU",
    "gpuClass": "standard"
  },
  "cells": [
    {
      "cell_type": "code",
      "source": [
        "import os\n",
        "import numpy as np\n",
        "import argparse\n",
        "import cv2\n",
        "import matplotlib.pyplot as plt"
      ],
      "metadata": {
        "id": "pdGXkNQwzE29"
      },
      "execution_count": 5,
      "outputs": []
    },
    {
      "cell_type": "markdown",
      "source": [
        "The original picture looks like:\n",
        "\n",
        "![logo](https://testksj.oss-cn-beijing.aliyuncs.com/uPic/logo.png)\n",
        "\n",
        "The OpenCV assumes images are in BGR channel order. OpenCV imread, imwrite and imshow all work with the BGR order, so the image won't change if we use cv2.imshow to show the image. But it doesn't work with matplotlib. \n",
        "\n",
        "Most image processing library use the RGB ordering such as matplotlib so if use `plt.imshow`, the color of the logo changed."
      ],
      "metadata": {
        "id": "TiA7hadA3kBl"
      }
    },
    {
      "cell_type": "code",
      "source": [
        "img = cv2.imread(\"logo.png\")"
      ],
      "metadata": {
        "id": "kobCeYZgzUUf"
      },
      "execution_count": 6,
      "outputs": []
    },
    {
      "cell_type": "code",
      "source": [
        "# show the image by cv2\n",
        "# The cv2.imshow() and cv.imshow() functions from the opencv-python package are incompatible with Jupyter notebook; \n",
        "# see https://github.com/jupyter/notebook/issues/3935. \n",
        "# As a replacement, you can use the following function:\n",
        "from google.colab.patches import cv2_imshow\n",
        "cv2_imshow(img)"
      ],
      "metadata": {
        "colab": {
          "base_uri": "https://localhost:8080/",
          "height": 116
        },
        "id": "YTQX9khO55nl",
        "outputId": "c3dc6d11-0e27-4849-9b89-12fa515dad05"
      },
      "execution_count": 7,
      "outputs": [
        {
          "output_type": "display_data",
          "data": {
            "text/plain": [
              "<PIL.Image.Image image mode=RGB size=82x99 at 0x7FD39377BE90>"
            ],
            "image/png": "[encoded data removed]"
          },
          "metadata": {}
        }
      ]
    },
    {
      "cell_type": "code",
      "source": [
        "# show the image by matplotlib\n",
        "plt.subplot(111)\n",
        "plt.imshow(img)\n",
        "plt.title(\"Original\")"
      ],
      "metadata": {
        "colab": {
          "base_uri": "https://localhost:8080/",
          "height": 299
        },
        "id": "MvnF1x2OzYtN",
        "outputId": "abdefcf9-ec16-419b-cb41-6c9d38b28068"
      },
      "execution_count": 8,
      "outputs": [
        {
          "output_type": "execute_result",
          "data": {
            "text/plain": [
              "Text(0.5, 1.0, 'Original')"
            ]
          },
          "metadata": {},
          "execution_count": 8
        },
        {
          "output_type": "display_data",
          "data": {
            "text/plain": [
              "<Figure size 432x288 with 1 Axes>"
            ],
            "image/png": "[encoded data removed]"
          },
          "metadata": {
            "needs_background": "light"
          }
        }
      ]
    },
    {
      "cell_type": "markdown",
      "source": [
        "If we want to read image in RGB order in OpenCV,\n",
        "we can use:\n",
        "\n",
        "`img = cv2.cvtColor(img, cv2.COLOR_BGR2RGB)`"
      ],
      "metadata": {
        "id": "9aCKs5Ng80Em"
      }
    },
    {
      "cell_type": "code",
      "source": [
        "# read images in RGB order in OpenCV\n",
        "img_rgb = cv2.cvtColor(img, cv2.COLOR_BGR2RGB)\n",
        "from google.colab.patches import cv2_imshow\n",
        "cv2_imshow(img_rgb)\n",
        "plt.imshow(img_rgb)"
      ],
      "metadata": {
        "colab": {
          "base_uri": "https://localhost:8080/",
          "height": 385
        },
        "id": "-MHpqCOQ8L1C",
        "outputId": "06229314-26f2-4ee4-ff5a-bc85bb9dd500"
      },
      "execution_count": 9,
      "outputs": [
        {
          "output_type": "display_data",
          "data": {
            "text/plain": [
              "<PIL.Image.Image image mode=RGB size=82x99 at 0x7FD37E7F1C50>"
            ],
            "image/png": "[encoded data removed]"
          },
          "metadata": {}
        },
        {
          "output_type": "execute_result",
          "data": {
            "text/plain": [
              "<matplotlib.image.AxesImage at 0x7fd37e7c6f90>"
            ]
          },
          "metadata": {},
          "execution_count": 9
        },
        {
          "output_type": "display_data",
          "data": {
            "text/plain": [
              "<Figure size 432x288 with 1 Axes>"
            ],
            "image/png": "[encoded data removed]"
          },
          "metadata": {
            "needs_background": "light"
          }
        }
      ]
    },
    {
      "cell_type": "markdown",
      "source": [
        "**cv2.imread(FILENAME, FLAG)**\n",
        "\n",
        "There are some flags:\n",
        "\n",
        "**cv2.IMREAD_UNCHANGED:** read the image as is from the source(with alpha channel). If the source image is an RGB, it loads the image into array with Red, Green and Blue channels.\n",
        "\n",
        "**cv2.IMREAD_COLOR:** convert image to the 3 channel BGR color image but no transparency channel\n",
        "\n",
        "**cv2.IMREAD_GRAYSCALE:** convert image to the single channel grayscale image\n",
        "\n",
        "Check more flags here: \n",
        "[OpenCV: Flags used for image file reading and writing](https://docs.opencv.org/3.4/d8/d6a/group__imgcodecs__flags.html#ga61d9b0126a3e57d9277ac48327799c80)\n"
      ],
      "metadata": {
        "id": "1DOSzI1LA7Py"
      }
    },
    {
      "cell_type": "code",
      "source": [
        "img = cv2.imread('logo.png', cv2.IMREAD_UNCHANGED)\n",
        "cv2_imshow(img)\n",
        "plt.imshow(img)"
      ],
      "metadata": {
        "colab": {
          "base_uri": "https://localhost:8080/",
          "height": 385
        },
        "id": "7ZeG2cl59N48",
        "outputId": "8c443523-ab44-499e-9fbe-5331843f8541"
      },
      "execution_count": 10,
      "outputs": [
        {
          "output_type": "display_data",
          "data": {
            "text/plain": [
              "<PIL.Image.Image image mode=RGBA size=82x99 at 0x7FD37E8C7C50>"
            ],
            "image/png": "[encoded data removed]"
          },
          "metadata": {}
        },
        {
          "output_type": "execute_result",
          "data": {
            "text/plain": [
              "<matplotlib.image.AxesImage at 0x7fd37e2ee550>"
            ]
          },
          "metadata": {},
          "execution_count": 10
        },
        {
          "output_type": "display_data",
          "data": {
            "text/plain": [
              "<Figure size 432x288 with 1 Axes>"
            ],
            "image/png": "[encoded data removed]"
          },
          "metadata": {
            "needs_background": "light"
          }
        }
      ]
    },
    {
      "cell_type": "code",
      "source": [
        "img = cv2.imread('logo.png', cv2.IMREAD_COLOR)\n",
        "cv2_imshow(img)\n",
        "plt.imshow(img)"
      ],
      "metadata": {
        "colab": {
          "base_uri": "https://localhost:8080/",
          "height": 385
        },
        "id": "uZKlMhG_8xn7",
        "outputId": "88f63297-e163-4367-c057-885a9dcc5d7c"
      },
      "execution_count": 11,
      "outputs": [
        {
          "output_type": "display_data",
          "data": {
            "text/plain": [
              "<PIL.Image.Image image mode=RGB size=82x99 at 0x7FD37E2928D0>"
            ],
            "image/png": "[encoded data removed]"
          },
          "metadata": {}
        },
        {
          "output_type": "execute_result",
          "data": {
            "text/plain": [
              "<matplotlib.image.AxesImage at 0x7fd37e250b90>"
            ]
          },
          "metadata": {},
          "execution_count": 11
        },
        {
          "output_type": "display_data",
          "data": {
            "text/plain": [
              "<Figure size 432x288 with 1 Axes>"
            ],
            "image/png": "[encoded data removed]"
          },
          "metadata": {
            "needs_background": "light"
          }
        }
      ]
    },
    {
      "cell_type": "code",
      "source": [
        "img = cv2.imread('logo.png', cv2.IMREAD_GRAYSCALE)\n",
        "cv2_imshow(img)"
      ],
      "metadata": {
        "colab": {
          "base_uri": "https://localhost:8080/",
          "height": 116
        },
        "id": "Xokyaz9PBi7_",
        "outputId": "c9ea5af7-2a20-4fdc-a3db-5e35f1e53ab6"
      },
      "execution_count": 12,
      "outputs": [
        {
          "output_type": "display_data",
          "data": {
            "text/plain": [
              "<PIL.Image.Image image mode=L size=82x99 at 0x7FD37E20FB50>"
            ],
            "image/png": "[encoded data removed]"
          },
          "metadata": {}
        }
      ]
    },
    {
      "cell_type": "markdown",
      "source": [
        "Let's have a look at the BGR channel. If we want to print the whole array then set `np.set_printoptions(threshold=np.inf)` and set it back to default after print the array.\n",
        "`np.set_printoptions(threshold=1000`"
      ],
      "metadata": {
        "id": "5xz5_lIIFdIW"
      }
    },
    {
      "cell_type": "code",
      "source": [
        "img = cv2.imread('logo.png', cv2.IMREAD_COLOR)\n",
        "cv2_imshow(img)\n",
        "b = img[:,:,0] # get blue channel\n",
        "g = img[:,:,1] # get green channel\n",
        "r = img[:,:,2] # get red channel\n",
        "\n",
        "print(b)\n"
      ],
      "metadata": {
        "colab": {
          "base_uri": "https://localhost:8080/",
          "height": 241
        },
        "id": "eNj-gB-EziIZ",
        "outputId": "c5d8d831-acbe-47b2-ba0f-6badcc27725c"
      },
      "execution_count": 13,
      "outputs": [
        {
          "output_type": "display_data",
          "data": {
            "text/plain": [
              "<PIL.Image.Image image mode=RGB size=82x99 at 0x7FD37E206C50>"
            ],
            "image/png": "[encoded data removed]"
          },
          "metadata": {}
        },
        {
          "output_type": "stream",
          "name": "stdout",
          "text": [
            "[[0 0 0 ... 0 0 0]\n",
            " [0 0 0 ... 0 0 0]\n",
            " [0 0 0 ... 0 0 0]\n",
            " ...\n",
            " [0 0 0 ... 0 0 0]\n",
            " [0 0 0 ... 0 0 0]\n",
            " [0 0 0 ... 0 0 0]]\n"
          ]
        }
      ]
    },
    {
      "cell_type": "code",
      "source": [
        "np.set_printoptions(threshold=np.inf)\n",
        "print(b)\n",
        "np.set_printoptions(threshold=1000)"
      ],
      "metadata": {
        "colab": {
          "base_uri": "https://localhost:8080/"
        },
        "id": "HIUAKsQu0fxu",
        "outputId": "42e958d7-4f31-4fb6-fe4d-a900509b1741"
      },
      "execution_count": 14,
      "outputs": [
        {
          "output_type": "stream",
          "name": "stdout",
          "text": [
            "[[  0   0   0   0   0   0   0   0   0   0   0   0   0   0   0   0   0   0\n",
            "    0   0   0   0   0   0   0   0   0   0   0   0   0   0   0   0   0  36\n",
            "   36  36  36  36  36  36  36  36  36  36  36  36   0   0   0   0   0   0\n",
            "    0   0   0   0   0   0   0   0   0   0   0   0   0   0   0   0   0   0\n",
            "    0   0   0   0   0   0   0   0   0   0]\n",
            " [  0   0   0   0   0   0   0   0   0   0   0   0   0   0   0   0   0   0\n",
            "    0   0   0   0   0   0   0   0   0   0   0   0   0   0  36  36  36  36\n",
            "   36  36  36  36  36  36  36  36  36  36  36  36  36  36   0   0   0   0\n",
            "    0   0   0   0   0   0   0   0   0   0   0   0   0   0   0   0   0   0\n",
            "    0   0   0   0   0   0   0   0   0   0]\n",
            " [  0   0   0   0   0   0   0   0   0   0   0   0   0   0   0   0   0   0\n",
            "    0   0   0   0   0   0   0   0   0   0   0   0   0  36  36  36  36  36\n",
            "   36  36  36  36  36  36  36  36  36  36  36  36  36  36  36  36   0   0\n",
            "    0   0   0   0   0   0   0   0   0   0   0   0   0   0   0   0   0   0\n",
            "    0   0   0   0   0   0   0   0   0   0]\n",
            " [  0   0   0   0   0   0   0   0   0   0   0   0   0   0   0   0   0   0\n",
            "    0   0   0   0   0   0   0   0   0   0   0  36  36  36  36  36  36  36\n",
            "   36  36  36  36  36  36  36  36  36  36  36  36  36  36  36  36  36  36\n",
            "    0   0   0   0   0   0   0   0   0   0   0   0   0   0   0   0   0   0\n",
            "    0   0   0   0   0   0   0   0   0   0]\n",
            " [  0   0   0   0   0   0   0   0   0   0   0   0   0   0   0   0   0   0\n",
            "    0   0   0   0   0   0   0   0   0   0  36  36  36  36  36  36  36  36\n",
            "   36  36  36  36  36  36  36  36  36  36  36  36  36  36  36  36  36  36\n",
            "   36   0   0   0   0   0   0   0   0   0   0   0   0   0   0   0   0   0\n",
            "    0   0   0   0   0   0   0   0   0   0]\n",
            " [  0   0   0   0   0   0   0   0   0   0   0   0   0   0   0   0   0   0\n",
            "    0   0   0   0   0   0   0   0   0  36  36  36  36  36  36  36  36  36\n",
            "   36  36  36  36  36  36  36  36  36  36  36  36  36  36  36  36  36  36\n",
            "   36  36   0   0   0   0   0   0   0   0   0   0   0   0   0   0   0   0\n",
            "    0   0   0   0   0   0   0   0   0   0]\n",
            " [  0   0   0   0   0   0   0   0   0   0   0   0   0   0   0   0   0   0\n",
            "    0   0   0   0   0   0   0   0  36  36  36  36  36  36  36  36  36  36\n",
            "   36  36  36  36  36  36  36  36  36  36  36  36  36  36  36  36  36  36\n",
            "   36  36  36   0   0   0   0   0   0   0   0   0   0   0   0   0   0   0\n",
            "    0   0   0   0   0   0   0   0   0   0]\n",
            " [  0   0   0   0   0   0   0   0   0   0   0   0   0   0   0   0   0   0\n",
            "    0   0   0   0   0   0   0  36  36  36  36  36  36  36  36  36  36  36\n",
            "   36  36  36  36  36  36  36  36  36  36  36  36  36  36  36  36  36  36\n",
            "   36  36  36  36   0   0   0   0   0   0   0   0   0   0   0   0   0   0\n",
            "    0   0   0   0   0   0   0   0   0   0]\n",
            " [  0   0   0   0   0   0   0   0   0   0   0   0   0   0   0   0   0   0\n",
            "    0   0   0   0   0   0   0  36  36  36  36  36  36  36  36  36  36  36\n",
            "   36  36  36  36  36  36  36  36  36  36  36  36  36  36  36  36  36  36\n",
            "   36  36  36  36   0   0   0   0   0   0   0   0   0   0   0   0   0   0\n",
            "    0   0   0   0   0   0   0   0   0   0]\n",
            " [  0   0   0   0   0   0   0   0   0   0   0   0   0   0   0   0   0   0\n",
            "    0   0   0   0   0   0  36  36  36  36  36  36  36  36  36  36  36  36\n",
            "   36  36  36  36  36  36  36  36  36  36  36  36  36  36  36  36  36  36\n",
            "   36  36  36  36  36   0   0   0   0   0   0   0   0   0   0   0   0   0\n",
            "    0   0   0   0   0   0   0   0   0   0]\n",
            " [  0   0   0   0   0   0   0   0   0   0   0   0   0   0   0   0   0   0\n",
            "    0   0   0   0   0  36  36  36  36  36  36  36  36  36  36  36  36  36\n",
            "   36  36  36  36  36  36  36  36  36  36  36  36  36  36  36  36  36  36\n",
            "   36  36  36  36  36   0   0   0   0   0   0   0   0   0   0   0   0   0\n",
            "    0   0   0   0   0   0   0   0   0   0]\n",
            " [  0   0   0   0   0   0   0   0   0   0   0   0   0   0   0   0   0   0\n",
            "    0   0   0   0   0  36  36  36  36  36  36  36  36  36  36  36  36  36\n",
            "   36  36  36  36  36   0  36  36  36  36  36  36  36  36  36  36  36  36\n",
            "   36  36  36  36  36  36   0   0   0   0   0   0   0   0   0   0   0   0\n",
            "    0   0   0   0   0   0   0   0   0   0]\n",
            " [  0   0   0   0   0   0   0   0   0   0   0   0   0   0   0   0   0   0\n",
            "    0   0   0   0   0  36  36  36  36  36  36  36  36  36  36  36  36  36\n",
            "   36  36   0   0   0   0   0   0   0  36  36  36  36  36  36  36  36  36\n",
            "   36  36  36  36  36  36   0   0   0   0   0   0   0   0   0   0   0   0\n",
            "    0   0   0   0   0   0   0   0   0   0]\n",
            " [  0   0   0   0   0   0   0   0   0   0   0   0   0   0   0   0   0   0\n",
            "    0   0   0   0  36  36  36  36  36  36  36  36  36  36  36  36  36  36\n",
            "   36   0   0   0   0   0   0   0   0   0  36  36  36  36  36  36  36  36\n",
            "   36  36  36  36  36  36   0   0   0   0   0   0   0   0   0   0   0   0\n",
            "    0   0   0   0   0   0   0   0   0   0]\n",
            " [  0   0   0   0   0   0   0   0   0   0   0   0   0   0   0   0   0   0\n",
            "    0   0   0   0  36  36  36  36  36  36  36  36  36  36  36  36  36  36\n",
            "    0   0   0   0   0   0   0   0   0   0   0  36  36  36  36  36  36  36\n",
            "   36  36  36  36  36  36  36   0   0   0   0   0   0   0   0   0   0   0\n",
            "    0   0   0   0   0   0   0   0   0   0]\n",
            " [  0   0   0   0   0   0   0   0   0   0   0   0   0   0   0   0   0   0\n",
            "    0   0   0   0  36  36  36  36  36  36  36  36  36  36  36  36  36   0\n",
            "    0   0   0   0   0   0   0   0   0   0   0   0  36  36  36  36  36  36\n",
            "   36  36  36  36  36  36  36   0   0   0   0   0   0   0   0   0   0   0\n",
            "    0   0   0   0   0   0   0   0   0   0]\n",
            " [  0   0   0   0   0   0   0   0   0   0   0   0   0   0   0   0   0   0\n",
            "    0   0   0   0  36  36  36  36  36  36  36  36  36  36  36  36   0   0\n",
            "    0   0   0   0   0   0   0   0   0   0   0   0  36  36  36  36  36  36\n",
            "   36  36  36  36  36  36  36   0   0   0   0   0   0   0   0   0   0   0\n",
            "    0   0   0   0   0   0   0   0   0   0]\n",
            " [  0   0   0   0   0   0   0   0   0   0   0   0   0   0   0   0   0   0\n",
            "    0   0   0   0  36  36  36  36  36  36  36  36  36  36  36  36   0   0\n",
            "    0   0   0   0   0   0   0   0   0   0   0   0   0  36  36  36  36  36\n",
            "   36  36  36  36  36  36  36   0   0   0   0   0   0   0   0   0   0   0\n",
            "    0   0   0   0   0   0   0   0   0   0]\n",
            " [  0   0   0   0   0   0   0   0   0   0   0   0   0   0   0   0   0   0\n",
            "    0   0   0   0  36  36  36  36  36  36  36  36  36  36  36  36   0   0\n",
            "    0   0   0   0   0   0   0   0   0   0   0   0   0  36  36  36  36  36\n",
            "   36  36  36  36  36  36  36   0   0   0   0   0   0   0   0   0   0   0\n",
            "    0   0   0   0   0   0   0   0   0   0]\n",
            " [  0   0   0   0   0   0   0   0   0   0   0   0   0   0   0   0   0   0\n",
            "    0   0   0   0  36  36  36  36  36  36  36  36  36  36  36  36   0   0\n",
            "    0   0   0   0   0   0   0   0   0   0   0   0   0  36  36  36  36  36\n",
            "   36  36  36  36  36  36  36   0   0   0   0   0   0   0   0   0   0   0\n",
            "    0   0   0   0   0   0   0   0   0   0]\n",
            " [  0   0   0   0   0   0   0   0   0   0   0   0   0   0   0   0   0   0\n",
            "    0   0   0   0  36  36  36  36  36  36  36  36  36  36  36  36   0   0\n",
            "    0   0   0   0   0   0   0   0   0   0   0   0   0  36  36  36  36  36\n",
            "   36  36  36  36  36  36  36   0   0   0   0   0   0   0   0   0   0   0\n",
            "    0   0   0   0   0   0   0   0   0   0]\n",
            " [  0   0   0   0   0   0   0   0   0   0   0   0   0   0   0   0   0   0\n",
            "    0   0   0   0  36  36  36  36  36  36  36  36  36  36  36  36   0   0\n",
            "    0   0   0   0   0   0   0   0   0   0   0   0  36  36  36  36  36  36\n",
            "   36  36  36  36  36  36  36   0   0   0   0   0   0   0   0   0   0   0\n",
            "    0   0   0   0   0   0   0   0   0   0]\n",
            " [  0   0   0   0   0   0   0   0   0   0   0   0   0   0   0   0   0   0\n",
            "    0   0   0   0  36  36  36  36  36  36  36  36  36  36  36  36  36   0\n",
            "    0   0   0   0   0   0   0   0   0   0   0   0  36  36  36  36  36  36\n",
            "   36  36  36  36  36  36  36   0   0   0   0   0   0   0   0   0   0   0\n",
            "    0   0   0   0   0   0   0   0   0   0]\n",
            " [  0   0   0   0   0   0   0   0   0   0   0   0   0   0   0   0   0   0\n",
            "    0   0   0   0  36  36  36  36  36  36  36  36  36  36  36  36  36  36\n",
            "    0   0   0   0   0   0   0   0   0   0   0  36  36  36  36  36  36  36\n",
            "   36  36  36  36  36  36  36   0   0   0   0   0   0   0   0   0   0   0\n",
            "    0   0   0   0   0   0   0   0   0   0]\n",
            " [  0   0   0   0   0   0   0   0   0   0   0   0   0   0   0   0   0   0\n",
            "    0   0   0   0  36  36  36  36  36  36  36  36  36  36  36  36  36  36\n",
            "   36   0   0   0   0   0   0   0   0   0  36  36  36  36  36  36  36  36\n",
            "   36  36  36  36  36  36   0   0   0   0   0   0   0   0   0   0   0   0\n",
            "    0   0   0   0   0   0   0   0   0   0]\n",
            " [  0   0   0   0   0   0   0   0   0   0   0   0   0   0   0   0   0   0\n",
            "    0   0   0   0   0  36  36  36  36  36  36  36  36  36  36  36  36  36\n",
            "   36  36   0   0   0   0   0   0   0  36  36  36  36  36  36  36  36  36\n",
            "   36  36  36  36  36  36   0   0   0   0   0   0   0   0   0   0   0   0\n",
            "    0   0   0   0   0   0   0   0   0   0]\n",
            " [  0   0   0   0   0   0   0   0   0   0   0   0   0   0   0   0   0   0\n",
            "    0   0   0   0   0  36  36  36  36  36  36  36  36  36  36  36  36  36\n",
            "   36  36   0   0   0   0   0   0   0  36  36  36  36  36  36  36  36  36\n",
            "   36  36  36  36  36  36   0   0   0   0   0   0   0   0   0   0   0   0\n",
            "    0   0   0   0   0   0   0   0   0   0]\n",
            " [  0   0   0   0   0   0   0   0   0   0   0   0   0   0   0   0   0   0\n",
            "    0   0   0   0   0   0  36  36  36  36  36  36  36  36  36  36  36  36\n",
            "   36   0   0   0   0   0   0   0   0   0  36  36  36  36  36  36  36  36\n",
            "   36  36  36  36  36   0   0   0   0   0   0   0   0   0   0   0   0   0\n",
            "    0   0   0   0   0   0   0   0   0   0]\n",
            " [  0   0   0   0   0   0   0   0   0   0   0   0   0   0   0   0   0   0\n",
            "    0   0   0   0   0   0  36  36  36  36  36  36  36  36  36  36  36  36\n",
            "   36   0   0   0   0   0   0   0   0   0   0  36  36  36  36  36  36  36\n",
            "   36  36  36  36  36   0   0   0   0   0   0   0   0   0   0   0   0   0\n",
            "    0   0   0   0   0   0   0   0   0   0]\n",
            " [  0   0   0   0   0   0   0   0   0   0   0   0   0   0   0   0   0   0\n",
            "    0   0   0   0   0   0   0  36  36  36  36  36  36  36  36  36  36  36\n",
            "    0   0   0   0   0   0   0   0   0   0   0  36  36  36  36  36  36  36\n",
            "   36  36  36  36   0   0   0   0   0   0   0   0   0   0   0   0   0   0\n",
            "    0   0   0   0   0   0   0   0   0   0]\n",
            " [  0   0   0   0   0   0   0   0   0   0   0   0   0   0   0   0   0   0\n",
            "    0   0   0   0   0   0   0  36  36  36  36  36  36  36  36  36  36   0\n",
            "    0   0   0   0   0   0   0   0   0   0   0   0  36  36  36  36  36  36\n",
            "   36  36  36   0   0   0   0   0   0   0   0   0   0   0   0   0   0   0\n",
            "    0   0   0   0   0   0   0   0   0   0]\n",
            " [  0   0   0   0   0   0   0   0   0   0   0   0   0   0   0   0   0   0\n",
            "    0   0   0   0   0   0   0   0  36  36  36  36  36  36  36  36  36   0\n",
            "    0   0   0   0   0   0   0   0   0   0   0   0  36  36  36  36  36  36\n",
            "   36  36  36   0   0   0   0   0   0   0   0   0   0   0   0   0   0   0\n",
            "    0   0   0   0   0   0   0   0   0   0]\n",
            " [  0   0   0   0   0   0   0   0   0   0   0   0   0   0   0   0   0   0\n",
            "    0   0   0   0   0   0   0   0   0  36  36  36  36  36  36  36   0   0\n",
            "    0   0   0   0   0   0   0   0   0   0   0   0   0  36  36  36  36  36\n",
            "   36  36   0   0   0   0   0   0   0   0   0   0   0   0   0   0   0   0\n",
            "    0   0   0   0   0   0   0   0   0   0]\n",
            " [  0   0   0   0   0   0   0   0   0   0   0   0   0   0   0   0   0   0\n",
            "    0   0   0   0   0   0   0   0   0   0  36  36  36  36  36  36   0   0\n",
            "    0   0   0   0   0   0   0   0   0   0   0   0   0   0  36  36  36  36\n",
            "   36   0   0   0   0   0   0   0   0   0   0   0   0   0   0   0   0   0\n",
            "    0   0   0   0   0   0   0   0   0   0]\n",
            " [  0   0   0   0   0   0   0   0   0   0   0   0   0   0   0   0   0   0\n",
            "    0   0   0   0   0   0   0   0   0   0   0  36  36  36  36   0   0   0\n",
            "    0   0   0   0   0   0   0   0   0   0   0   0   0   0  36  36  36   0\n",
            "    0   0   0   0   0   0   0   0   0   0   0   0   0   0   0   0   0   0\n",
            "    0   0   0   0   0   0   0   0   0   0]\n",
            " [  0   0   0   0   0   0   0   0   0   0   0   0   0   0   0   0   0   0\n",
            "    0   0   0   0   0   0   0   0   0   0   0   0   0  36  36   0   0   0\n",
            "    0   0   0   0   0   0   0   0   0   0   0   0   0   0   0  36   0   0\n",
            "    0   0   0   0   0   0   0   0   0   0   0   0   0   0   0   0   0   0\n",
            "    0   0   0   0   0   0   0   0   0   0]\n",
            " [  0   0   0   0   0   0   0   0   0   0   0   0   0   0   0   0   0   0\n",
            "   48  48  48   0   0   0   0   0   0   0   0   0   0   0   0   0   0   0\n",
            "    0   0   0   0   0   0   0   0   0   0   0   0   0   0   0   0   0   0\n",
            "    0   0   0   0   0   0   0   0   0   0   0   0   0   0   0   0   0   0\n",
            "    0   0   0   0   0   0   0   0   0   0]\n",
            " [  0   0   0   0   0   0   0   0   0   0   0   0   0  48  48  48  48  48\n",
            "   48  48  48  48  48  48  48  48   0   0   0   0   0   0   0   0   0   0\n",
            "    0   0   0   0   0   0   0   0   0   0   0   0   0   0   0   0   0   0\n",
            "    0   0   0   0   0   0   0   0   0   0   0   0   0   0   0   0   0   0\n",
            "    0   0   0   0   0   0   0   0   0   0]\n",
            " [  0   0   0   0   0   0   0   0   0   0  48  48  48  48  48  48  48  48\n",
            "   48  48  48  48  48  48  48  48  48  48   0   0   0   0   0   0   0   0\n",
            "    0   0   0   0   0   0   0   0   0   0   0   0   0   0   0   0   0   0\n",
            "    0   0   0   0   0   0   0   0   0   0   0   0   0   0   0   0   0   0\n",
            "  212   0   0   0   0   0   0   0   0   0]\n",
            " [  0   0   0   0   0   0   0   0  48  48  48  48  48  48  48  48  48  48\n",
            "   48  48  48  48  48  48  48  48  48  48  48   0   0   0   0   0   0   0\n",
            "    0   0   0   0   0   0   0   0   0   0   0   0   0   0   0 212 212 212\n",
            "    0   0   0   0   0   0   0   0   0   0   0   0   0   0   0   0   0 212\n",
            "  212 212   0   0   0   0   0   0   0   0]\n",
            " [  0   0   0   0   0   0   0  48  48  48  48  48  48  48  48  48  48  48\n",
            "   48  48  48  48  48  48  48  48  48  48  48   0   0   0   0   0   0   0\n",
            "    0   0   0   0   0   0   0   0   0   0   0   0   0 212 212 212 212 212\n",
            "    0   0   0   0   0   0   0   0   0   0   0   0   0   0   0   0 212 212\n",
            "  212 212 212 212   0   0   0   0   0   0]\n",
            " [  0   0   0   0   0   0  48  48  48  48  48  48  48  48  48  48  48  48\n",
            "   48  48  48  48  48  48  48  48  48  48   0   0   0   0   0   0   0   0\n",
            "    0   0   0   0   0   0   0   0   0   0   0   0 212 212 212 212 212 212\n",
            "  212   0   0   0   0   0   0   0   0   0   0   0   0   0   0   0 212 212\n",
            "  212 212 212 212 212   0   0   0   0   0]\n",
            " [  0   0   0   0   0  48  48  48  48  48  48  48  48  48  48  48  48  48\n",
            "   48  48  48  48  48  48  48  48  48  48   0   0   0   0   0   0   0   0\n",
            "    0   0   0   0   0   0   0   0   0   0   0 212 212 212 212 212 212 212\n",
            "  212   0   0   0   0   0   0   0   0   0   0   0   0   0   0 212 212 212\n",
            "  212 212 212 212 212 212   0   0   0   0]\n",
            " [  0   0   0   0  48  48  48  48  48  48  48  48  48  48  48  48  48  48\n",
            "   48  48  48  48  48  48  48  48  48   0   0   0   0   0   0   0   0   0\n",
            "    0   0   0   0   0   0   0   0   0   0   0 212 212 212 212 212 212 212\n",
            "  212 212   0   0   0   0   0   0   0   0   0   0   0   0   0 212 212 212\n",
            "  212 212 212 212 212 212   0   0   0   0]\n",
            " [  0   0   0  48  48  48  48  48  48  48  48  48  48  48  48  48  48  48\n",
            "   48  48  48  48  48  48  48  48  48   0   0   0   0   0   0   0   0   0\n",
            "    0   0   0   0   0   0   0   0   0   0 212 212 212 212 212 212 212 212\n",
            "  212 212 212   0   0   0   0   0   0   0   0   0   0   0 212 212 212 212\n",
            "  212 212 212 212 212 212 212   0   0   0]\n",
            " [  0   0   0  48  48  48  48  48  48  48  48  48  48  48  48  48  48  48\n",
            "   48  48  48  48  48  48  48  48   0   0   0   0   0   0   0   0   0   0\n",
            "    0   0   0   0   0   0   0   0   0 212 212 212 212 212 212 212 212 212\n",
            "  212 212 212   0   0   0   0   0   0   0   0   0   0 212 212 212 212 212\n",
            "  212 212 212 212 212 212 212 212   0   0]\n",
            " [  0   0  48  48  48  48  48  48  48  48  48  48  48  48  48  48  48  48\n",
            "   48  48  48  48  48  48  48   0   0   0   0   0   0   0   0   0   0   0\n",
            "    0   0   0   0   0   0   0   0   0 212 212 212 212 212 212 212 212 212\n",
            "  212 212 212 212   0   0   0   0   0   0   0   0   0 212 212 212 212 212\n",
            "  212 212 212 212 212 212 212 212   0   0]\n",
            " [  0  48  48  48  48  48  48  48  48  48  48  48  48  48  48  48  48  48\n",
            "   48  48  48  48  48  48  48   0   0   0   0   0   0   0   0   0   0   0\n",
            "    0   0   0   0   0   0   0   0 212 212 212 212 212 212 212 212 212 212\n",
            "  212 212 212 212   0   0   0   0   0   0   0   0 212 212 212 212 212 212\n",
            "  212 212 212 212 212 212 212 212 212   0]\n",
            " [  0  48  48  48  48  48  48  48  48  48  48  48  48  48  48  48  48  48\n",
            "   48   0  48  48  48  48   0   0   0   0   0   0   0   0   0   0   0   0\n",
            "    0   0   0   0   0   0   0   0 212 212 212 212 212 212 212 212 212 212\n",
            "  212 212 212 212 212   0   0   0   0   0   0   0 212 212 212 212 212 212\n",
            "  212 212 212 212 212 212 212 212 212   0]\n",
            " [  0  48  48  48  48  48  48  48  48  48  48  48  48  48  48  48   0   0\n",
            "    0   0   0   0   0   0   0   0   0   0   0   0   0   0   0   0   0   0\n",
            "    0   0   0   0   0   0   0   0 212 212 212 212 212 212 212 212 212 212\n",
            "  212 212 212 212   0   0   0   0   0   0   0   0   0 212 212 212 212 212\n",
            "  212 212 212 212 212 212 212 212 212   0]\n",
            " [ 48  48  48  48  48  48  48  48  48  48  48  48  48  48   0   0   0   0\n",
            "    0   0   0   0   0   0   0   0   0   0   0   0   0   0   0   0   0   0\n",
            "    0   0   0   0   0   0   0 212 212 212 212 212 212 212 212 212 212 212\n",
            "  212 212 212   0   0   0   0   0   0   0   0   0   0   0 212 212 212 212\n",
            "  212 212 212 212 212 212 212 212 212 212]\n",
            " [ 48  48  48  48  48  48  48  48  48  48  48  48  48   0   0   0   0   0\n",
            "    0   0   0   0   0   0   0   0   0   0   0   0   0   0   0   0   0   0\n",
            "    0   0   0   0   0   0   0 212 212 212 212 212 212 212 212 212 212 212\n",
            "  212 212   0   0   0   0   0   0   0   0   0   0   0   0   0 212 212 212\n",
            "  212 212 212 212 212 212 212 212 212 212]\n",
            " [ 48  48  48  48  48  48  48  48  48  48  48  48  48   0   0   0   0   0\n",
            "    0   0   0   0   0   0   0   0   0   0   0   0   0   0   0   0   0   0\n",
            "    0   0   0   0   0   0   0 212 212 212 212 212 212 212 212 212 212 212\n",
            "  212 212   0   0   0   0   0   0   0   0   0   0   0   0   0 212 212 212\n",
            "  212 212 212 212 212 212 212 212 212 212]\n",
            " [ 48  48  48  48  48  48  48  48  48  48  48  48   0   0   0   0   0   0\n",
            "    0   0   0   0   0   0   0   0   0   0   0   0   0   0   0   0   0   0\n",
            "    0   0   0   0   0   0   0 212 212 212 212 212 212 212 212 212 212 212\n",
            "  212   0   0   0   0   0   0   0   0   0   0   0   0   0   0   0 212 212\n",
            "  212 212 212 212 212 212 212 212 212 212]\n",
            " [ 48  48  48  48  48  48  48  48  48  48  48  48   0   0   0   0   0   0\n",
            "    0   0   0   0   0   0   0   0   0   0   0   0   0   0   0   0   0   0\n",
            "    0   0   0   0   0   0   0 212 212 212 212 212 212 212 212 212 212 212\n",
            "  212   0   0   0   0   0   0   0   0   0   0   0   0   0   0   0 212 212\n",
            "  212 212 212 212 212 212 212 212 212 212]\n",
            " [ 48  48  48  48  48  48  48  48  48  48  48  48   0   0   0   0   0   0\n",
            "    0   0   0   0   0   0   0   0   0  48  48  48   0   0   0   0   0   0\n",
            "    0   0   0   0   0   0   0 212 212 212 212 212 212 212 212 212 212 212\n",
            "  212   0   0   0   0   0   0   0   0   0   0   0   0   0   0   0 212 212\n",
            "  212 212 212 212 212 212 212 212 212 212]\n",
            " [ 48  48  48  48  48  48  48  48  48  48  48  48   0   0   0   0   0   0\n",
            "    0   0   0   0   0   0   0   0   0  48  48  48  48  48  48  48  48  48\n",
            "   48  48  48   0   0   0   0 212 212 212 212 212 212 212 212 212 212 212\n",
            "  212   0   0   0   0   0   0   0   0   0   0   0   0   0   0   0 212 212\n",
            "  212 212 212 212 212 212 212 212 212 212]\n",
            " [ 48  48  48  48  48  48  48  48  48  48  48  48   0   0   0   0   0   0\n",
            "    0   0   0   0   0   0   0   0   0  48  48  48  48  48  48  48  48  48\n",
            "   48  48  48   0   0   0   0 212 212 212 212 212 212 212 212 212 212 212\n",
            "  212   0   0   0   0   0   0   0   0   0   0   0   0   0   0   0 212 212\n",
            "  212 212 212 212 212 212 212 212 212 212]\n",
            " [ 48  48  48  48  48  48  48  48  48  48  48  48   0   0   0   0   0   0\n",
            "    0   0   0   0   0   0   0   0  48  48  48  48  48  48  48  48  48  48\n",
            "   48  48  48   0   0   0   0 212 212 212 212 212 212 212 212 212 212 212\n",
            "  212 212   0   0   0   0   0   0   0   0   0   0   0   0   0 212 212 212\n",
            "  212 212 212 212 212 212 212 212 212 212]\n",
            " [ 48  48  48  48  48  48  48  48  48  48  48  48  48   0   0   0   0   0\n",
            "    0   0   0   0   0   0   0   0  48  48  48  48  48  48  48  48  48  48\n",
            "   48  48  48   0   0   0   0 212 212 212 212 212 212 212 212 212 212 212\n",
            "  212 212 212   0   0   0   0   0   0   0   0   0   0   0   0 212 212 212\n",
            "  212 212 212 212 212 212 212 212 212 212]\n",
            " [ 48  48  48  48  48  48  48  48  48  48  48  48  48  48   0   0   0   0\n",
            "    0   0   0   0   0   0   0  48  48  48  48  48  48  48  48  48  48  48\n",
            "   48  48  48   0   0   0   0   0 212 212 212 212 212 212 212 212 212 212\n",
            "  212 212 212   0   0   0   0   0   0   0   0   0   0   0 212 212 212 212\n",
            "  212 212 212 212 212 212 212 212 212 212]\n",
            " [ 48  48  48  48  48  48  48  48  48  48  48  48  48  48  48   0   0   0\n",
            "    0   0   0   0   0   0  48  48  48  48  48  48  48  48  48  48  48  48\n",
            "   48  48   0   0   0   0   0   0 212 212 212 212 212 212 212 212 212 212\n",
            "  212 212 212 212 212   0   0   0   0   0   0   0 212 212 212 212 212 212\n",
            "  212 212 212 212 212 212 212 212 212   0]\n",
            " [  0  48  48  48  48  48  48  48  48  48  48  48  48  48  48  48   0   0\n",
            "    0   0   0   0   0  48  48  48  48  48  48  48  48  48  48  48  48  48\n",
            "   48  48   0   0   0   0   0   0 212 212 212 212 212 212 212 212 212 212\n",
            "  212 212 212 212 212 212 212   0   0   0 212 212 212 212 212 212 212 212\n",
            "  212 212 212 212 212 212 212 212 212   0]\n",
            " [  0  48  48  48  48  48  48  48  48  48  48  48  48  48  48  48  48  48\n",
            "   48  48  48  48  48  48  48  48  48  48  48  48  48  48  48  48  48  48\n",
            "   48  48   0   0   0   0   0   0   0 212 212 212 212 212 212 212 212 212\n",
            "  212 212 212 212 212 212 212 212 212 212 212 212 212 212 212 212 212 212\n",
            "  212 212 212 212 212 212 212 212 212   0]\n",
            " [  0   0  48  48  48  48  48  48  48  48  48  48  48  48  48  48  48  48\n",
            "   48  48  48  48  48  48  48  48  48  48  48  48  48  48  48  48  48  48\n",
            "   48   0   0   0   0   0   0   0   0 212 212 212 212 212 212 212 212 212\n",
            "  212 212 212 212 212 212 212 212 212 212 212 212 212 212 212 212 212 212\n",
            "  212 212 212 212 212 212 212 212   0   0]\n",
            " [  0   0  48  48  48  48  48  48  48  48  48  48  48  48  48  48  48  48\n",
            "   48  48  48  48  48  48  48  48  48  48  48  48  48  48  48  48  48  48\n",
            "   48   0   0   0   0   0   0   0   0   0 212 212 212 212 212 212 212 212\n",
            "  212 212 212 212 212 212 212 212 212 212 212 212 212 212 212 212 212 212\n",
            "  212 212 212 212 212 212 212   0   0   0]\n",
            " [  0   0   0  48  48  48  48  48  48  48  48  48  48  48  48  48  48  48\n",
            "   48  48  48  48  48  48  48  48  48  48  48  48  48  48  48  48  48  48\n",
            "    0   0   0   0   0   0   0   0   0   0 212 212 212 212 212 212 212 212\n",
            "  212 212 212 212 212 212 212 212 212 212 212 212 212 212 212 212 212 212\n",
            "  212 212 212 212 212 212 212   0   0   0]\n",
            " [  0   0   0  48  48  48  48  48  48  48  48  48  48  48  48  48  48  48\n",
            "   48  48  48  48  48  48  48  48  48  48  48  48  48  48  48  48  48   0\n",
            "    0   0   0   0   0   0   0   0   0   0   0 212 212 212 212 212 212 212\n",
            "  212 212 212 212 212 212 212 212 212 212 212 212 212 212 212 212 212 212\n",
            "  212 212 212 212 212 212   0   0   0   0]\n",
            " [  0   0   0   0  48  48  48  48  48  48  48  48  48  48  48  48  48  48\n",
            "   48  48  48  48  48  48  48  48  48  48  48  48  48  48  48  48  48   0\n",
            "    0   0   0   0   0   0   0   0   0   0   0   0 212 212 212 212 212 212\n",
            "  212 212 212 212 212 212 212 212 212 212 212 212 212 212 212 212 212 212\n",
            "  212 212 212 212 212   0   0   0   0   0]\n",
            " [  0   0   0   0   0  48  48  48  48  48  48  48  48  48  48  48  48  48\n",
            "   48  48  48  48  48  48  48  48  48  48  48  48  48  48  48  48   0   0\n",
            "    0   0   0   0   0   0   0   0   0   0   0   0   0 212 212 212 212 212\n",
            "  212 212 212 212 212 212 212 212 212 212 212 212 212 212 212 212 212 212\n",
            "  212 212 212 212   0   0   0   0   0   0]\n",
            " [  0   0   0   0   0   0  48  48  48  48  48  48  48  48  48  48  48  48\n",
            "   48  48  48  48  48  48  48  48  48  48  48  48  48  48  48   0   0   0\n",
            "    0   0   0   0   0   0   0   0   0   0   0   0   0   0 212 212 212 212\n",
            "  212 212 212 212 212 212 212 212 212 212 212 212 212 212 212 212 212 212\n",
            "  212 212 212   0   0   0   0   0   0   0]\n",
            " [  0   0   0   0   0   0   0  48  48  48  48  48  48  48  48  48  48  48\n",
            "   48  48  48  48  48  48  48  48  48  48  48  48  48   0   0   0   0   0\n",
            "    0   0   0   0   0   0   0   0   0   0   0   0   0   0   0 212 212 212\n",
            "  212 212 212 212 212 212 212 212 212 212 212 212 212 212 212 212 212 212\n",
            "  212 212   0   0   0   0   0   0   0   0]\n",
            " [  0   0   0   0   0   0   0   0   0  48  48  48  48  48  48  48  48  48\n",
            "   48  48  48  48  48  48  48  48  48  48  48  48   0   0   0   0   0   0\n",
            "    0   0   0   0   0   0   0   0   0   0   0   0   0   0   0   0   0 212\n",
            "  212 212 212 212 212 212 212 212 212 212 212 212 212 212 212 212 212 212\n",
            "    0   0   0   0   0   0   0   0   0   0]\n",
            " [  0   0   0   0   0   0   0   0   0   0   0  48  48  48  48  48  48  48\n",
            "   48  48  48  48  48  48  48  48  48  48   0   0   0   0   0   0   0   0\n",
            "    0   0   0   0   0   0   0   0   0   0   0   0   0   0   0   0   0   0\n",
            "    0 212 212 212 212 212 212 212 212 212 212 212 212 212 212 212   0   0\n",
            "    0   0   0   0   0   0   0   0   0   0]\n",
            " [  0   0   0   0   0   0   0   0   0   0   0   0   0  48  48  48  48  48\n",
            "   48  48  48  48  48  48  48   0   0   0   0   0   0   0   0   0   0   0\n",
            "    0   0   0   0   0   0   0   0   0   0   0   0   0   0   0   0   0   0\n",
            "    0   0   0   0   0 212 212 212 212 212 212 212   0   0   0   0   0   0\n",
            "    0   0   0   0   0   0   0   0   0   0]\n",
            " [  0   0   0   0   0   0   0   0   0   0   0   0   0   0   0   0   0   0\n",
            "    0   0   0   0   0   0   0   0   0   0   0   0   0   0   0   0   0   0\n",
            "    0   0   0   0   0   0   0   0   0   0   0   0   0   0   0   0   0   0\n",
            "    0   0   0   0   0   0   0   0   0   0   0   0   0   0   0   0   0   0\n",
            "    0   0   0   0   0   0   0   0   0   0]\n",
            " [  0   0   0   0   0   0   0   0   0   0   0   0   0   0   0   0   0   0\n",
            "    0   0   0   0   0   0   0   0   0   0   0   0   0   0   0   0   0   0\n",
            "    0   0   0   0   0   0   0   0   0   0   0   0   0   0   0   0   0   0\n",
            "    0   0   0   0   0   0   0   0   0   0   0   0   0   0   0   0   0   0\n",
            "    0   0   0   0   0   0   0   0   0   0]\n",
            " [  0   0   0   0   0   0   0   0   0   0   0   0   0   0   0   0   0   0\n",
            "    0   0   0   0   0   0   0   0   0   0   0   0   0   0   0   0   0   0\n",
            "    0   0   0   0   0   0   0   0   0   0   0   0   0   0   0   0   0   0\n",
            "    0   0   0   0   0   0   0   0   0   0   0   0   0   0   0   0   0   0\n",
            "    0   0   0   0   0   0   0   0   0   0]\n",
            " [  0   0   0   0   0   0   0   0   0   0   0   0   0   0   0   0   0   0\n",
            "    0   0   0   0   0   0   0   0   0   0   0   0   0   0   0   0   0   0\n",
            "    0   0   0   0   0   0   0   0   0   0   0   0   0   0   0   0   0   0\n",
            "    0   0   0   0   0   0   0   0   0   0   0   0   0   0   0   0   0   0\n",
            "    0   0   0   0   0   0   0   0   0   0]\n",
            " [  0   0   0   0   0   0   0   0   0   0   0   0   0   0   0   0   0   0\n",
            "    0   0   0   0   0   0   0   0   0   0   0   0   0   0   0   0   0   0\n",
            "    0   0   0   0   0   0   0   0   0   0   0   0   0   0   0   0   0   0\n",
            "    0   0   0   0   0   0   0   0   0   0   0   0   0   0   0   0   0   0\n",
            "    0   0   0   0   0   0   0   0   0   0]\n",
            " [  0   0   0   0   0   0   0   0   0   0   0   0   0   0   0   0   0   0\n",
            "    0   0   0   0   0   0   0   0   0   0   0   0   0   0   0   0   0   0\n",
            "    0   0   0   0   0   0   0   0   0   0   0   0   0   0   0   0   0   0\n",
            "    0   0   0   0   0   0   0   0   0   0   0   0   0   0   0   0   0   0\n",
            "    0   0   0   0   0   0   0   0   0   0]\n",
            " [  0   0   0   0   0   0   0   0   0   0   0   0   0   0   0   0   0   0\n",
            "    0   0   0   0   0   0   0   0   0   0   0   0   0   0   0   0   0   0\n",
            "    0   0   0   0   0   0   0   0   0   0   0   0   0   0   0   0   0   0\n",
            "    0   0   0   0   0   0   0   0   0   0   0   0   0   0   0   0   0   0\n",
            "    0   0   0   0   0   0   0   0   0   0]\n",
            " [  0   0   0   0   0   0   0   0   0   0   0   0   0   0   0   0   0   0\n",
            "    0   0   0   0   0   0   0   0   0   0   0   0   0   0   0   0   0   0\n",
            "    0   0   0   0   0   0   0   0   0   0   0   0   0   0   0   0   0   0\n",
            "    0   0   0   0   0   0   0   0   0   0   0   0   0   0   0   0   0   0\n",
            "    0   0   0   0   0   0   0   0   0   0]\n",
            " [  0   0   0   0   0   0   0   0   0   0   0   0   0   0   0   0   0   0\n",
            "    0   0   0   0   0   0   0   0   0   0   0   0   0   0   0   0   0   0\n",
            "    0   0   0   0   0   0   0   0   0   0   0   0   0   0   0   0   0   0\n",
            "    0   0   0   0   0   0   0   0   0   0   0   0   0   0   0   0   0   0\n",
            "    0   0   0   0   0   0   0   0   0   0]\n",
            " [  0   0   0   0   0   0   0   0   0   0   0   0   0   0   0   0   0   0\n",
            "    0   0   0   0   0   0   0   0   0   0   0   0   0   0   0   0   0   0\n",
            "    0   0   0   0   0   0   0   0   0   0   0   0   0   0   0   0   0   0\n",
            "    0   0   0   0   0   0   0   0   0   0   0   0   0   0   0   0   0   0\n",
            "    0   0   0   0   0   0   0   0   0   0]\n",
            " [  0   0   0   0   0   0   0   0   0   0   0   0   0   0   0   0   0   0\n",
            "    0   0   0   0   0   0   0   0   0   0   0   0   0   0   0   0   0   0\n",
            "    0   0   0   0   0   0   0   0   0   0   0   0   0   0   0   0   0   0\n",
            "    0   0   0   0   0   0   0   0   0   0   0   0   0   0   0   0   0   0\n",
            "    0   0   0   0   0   0   0   0   0   0]\n",
            " [  0   0   0   0   0   0   0   0   0   0   0   0   0   0   0   0   0   0\n",
            "    0   0   0   0   0   0   0   0   0   0   0   0   0   0   0   0   0   0\n",
            "    0   0   0   0   0   0   0   0   0   0   0   0   0   0   0   0   0   0\n",
            "    0   0   0   0   0   0   0   0   0   0   0   0   0   0   0   0   0   0\n",
            "    0   0   0   0   0   0   0   0   0   0]\n",
            " [  0   0   0   0   0   0   0   0   0   0   0   0   0   0   0   0   0   0\n",
            "    0   0   0   0   0   0   0   0   0   0   0   0   0   0   0   0   0   0\n",
            "    0   0   0   0   0   0   0   0   0   0   0   0   0   0   0   0   0   0\n",
            "    0   0   0   0   0   0   0   0   0   0   0   0   0   0   0   0   0   0\n",
            "    0   0   0   0   0   0   0   0   0   0]\n",
            " [  0   0   0   0   0   0   0   0   0   0   0   0   0   0   0   0   0   0\n",
            "    0   0   0   0   0   0   0   0   0   0   0   0   0   0   0   0   0   0\n",
            "    0   0   0   0   0   0   0   0   0   0   0   0   0   0   0   0   0   0\n",
            "    0   0   0   0   0   0   0   0   0   0   0   0   0   0   0   0   0   0\n",
            "    0   0   0   0   0   0   0   0   0   0]\n",
            " [  0   0   0   0   0   0   0   0   0   0   0   0   0   0   0   0   0   0\n",
            "    0   0   0   0   0   0   0   0   0   0   0   0   0   0   0   0   0   0\n",
            "    0   0   0   0   0   0   0   0   0   0   0   0   0   0   0   0   0   0\n",
            "    0   0   0   0   0   0   0   0   0   0   0   0   0   0   0   0   0   0\n",
            "    0   0   0   0   0   0   0   0   0   0]\n",
            " [  0   0   0   0   0   0   0   0   0   0   0   0   0   0   0   0   0   0\n",
            "    0   0   0   0   0   0   0   0   0   0   0   0   0   0   0   0   0   0\n",
            "    0   0   0   0   0   0   0   0   0   0   0   0   0   0   0   0   0   0\n",
            "    0   0   0   0   0   0   0   0   0   0   0   0   0   0   0   0   0   0\n",
            "    0   0   0   0   0   0   0   0   0   0]\n",
            " [  0   0   0   0   0   0   0   0   0   0   0   0   0   0   0   0   0   0\n",
            "    0   0   0   0   0   0   0   0   0   0   0   0   0   0   0   0   0   0\n",
            "    0   0   0   0   0   0   0   0   0   0   0   0   0   0   0   0   0   0\n",
            "    0   0   0   0   0   0   0   0   0   0   0   0   0   0   0   0   0   0\n",
            "    0   0   0   0   0   0   0   0   0   0]\n",
            " [  0   0   0   0   0   0   0   0   0   0   0   0   0   0   0   0   0   0\n",
            "    0   0   0   0   0   0   0   0   0   0   0   0   0   0   0   0   0   0\n",
            "    0   0   0   0   0   0   0   0   0   0   0   0   0   0   0   0   0   0\n",
            "    0   0   0   0   0   0   0   0   0   0   0   0   0   0   0   0   0   0\n",
            "    0   0   0   0   0   0   0   0   0   0]\n",
            " [  0   0   0   0   0   0   0   0   0   0   0   0   0   0   0   0   0   0\n",
            "    0   0   0   0   0   0   0   0   0   0   0   0   0   0   0   0   0   0\n",
            "    0   0   0   0   0   0   0   0   0   0   0   0   0   0   0   0   0   0\n",
            "    0   0   0   0   0   0   0   0   0   0   0   0   0   0   0   0   0   0\n",
            "    0   0   0   0   0   0   0   0   0   0]\n",
            " [  0   0   0   0   0   0   0   0   0   0   0   0   0   0   0   0   0   0\n",
            "    0   0   0   0   0   0   0   0   0   0   0   0   0   0   0   0   0   0\n",
            "    0   0   0   0   0   0   0   0   0   0   0   0   0   0   0   0   0   0\n",
            "    0   0   0   0   0   0   0   0   0   0   0   0   0   0   0   0   0   0\n",
            "    0   0   0   0   0   0   0   0   0   0]\n",
            " [  0   0   0   0   0   0   0   0   0   0   0   0   0   0   0   0   0   0\n",
            "    0   0   0   0   0   0   0   0   0   0   0   0   0   0   0   0   0   0\n",
            "    0   0   0   0   0   0   0   0   0   0   0   0   0   0   0   0   0   0\n",
            "    0   0   0   0   0   0   0   0   0   0   0   0   0   0   0   0   0   0\n",
            "    0   0   0   0   0   0   0   0   0   0]\n",
            " [  0   0   0   0   0   0   0   0   0   0   0   0   0   0   0   0   0   0\n",
            "    0   0   0   0   0   0   0   0   0   0   0   0   0   0   0   0   0   0\n",
            "    0   0   0   0   0   0   0   0   0   0   0   0   0   0   0   0   0   0\n",
            "    0   0   0   0   0   0   0   0   0   0   0   0   0   0   0   0   0   0\n",
            "    0   0   0   0   0   0   0   0   0   0]\n",
            " [  0   0   0   0   0   0   0   0   0   0   0   0   0   0   0   0   0   0\n",
            "    0   0   0   0   0   0   0   0   0   0   0   0   0   0   0   0   0   0\n",
            "    0   0   0   0   0   0   0   0   0   0   0   0   0   0   0   0   0   0\n",
            "    0   0   0   0   0   0   0   0   0   0   0   0   0   0   0   0   0   0\n",
            "    0   0   0   0   0   0   0   0   0   0]\n",
            " [  0   0   0   0   0   0   0   0   0   0   0   0   0   0   0   0   0   0\n",
            "    0   0   0   0   0   0   0   0   0   0   0   0   0   0   0   0   0   0\n",
            "    0   0   0   0   0   0   0   0   0   0   0   0   0   0   0   0   0   0\n",
            "    0   0   0   0   0   0   0   0   0   0   0   0   0   0   0   0   0   0\n",
            "    0   0   0   0   0   0   0   0   0   0]]\n"
          ]
        }
      ]
    },
    {
      "cell_type": "markdown",
      "source": [
        "Now let's convert it to **RGB** channel. Even though we read image in RGB order but the logo color will change if we use `cv2.imshow` to show the image because it works with **BGR** order. `plt.imshow` show the original color of the image because it works with **RGB** order as well."
      ],
      "metadata": {
        "id": "5N21Xz9lGvwh"
      }
    },
    {
      "cell_type": "code",
      "source": [
        "# read images in RGB order in OpenCV\n",
        "img_rgb = cv2.cvtColor(img, cv2.COLOR_BGR2RGB)\n",
        "from google.colab.patches import cv2_imshow\n",
        "cv2_imshow(img_rgb)\n",
        "plt.imshow(img_rgb)\n"
      ],
      "metadata": {
        "colab": {
          "base_uri": "https://localhost:8080/",
          "height": 385
        },
        "id": "Whj4fUnuG0wn",
        "outputId": "1800c38a-7a1e-4e08-f54c-0ed2e5468aad"
      },
      "execution_count": 15,
      "outputs": [
        {
          "output_type": "display_data",
          "data": {
            "text/plain": [
              "<PIL.Image.Image image mode=RGB size=82x99 at 0x7FD37E281D10>"
            ],
            "image/png": "[encoded data removed]"
          },
          "metadata": {}
        },
        {
          "output_type": "execute_result",
          "data": {
            "text/plain": [
              "<matplotlib.image.AxesImage at 0x7fd37e1c33d0>"
            ]
          },
          "metadata": {},
          "execution_count": 15
        },
        {
          "output_type": "display_data",
          "data": {
            "text/plain": [
              "<Figure size 432x288 with 1 Axes>"
            ],
            "image/png": "[encoded data removed]"
          },
          "metadata": {
            "needs_background": "light"
          }
        }
      ]
    },
    {
      "cell_type": "code",
      "source": [
        "r1 = img_rgb[:,:,0] # get blue channel\n",
        "g1 = img_rgb[:,:,1] # get green channel\n",
        "b1 = img_rgb[:,:,2] # get red channel"
      ],
      "metadata": {
        "id": "5Oh5ncRjHIHW"
      },
      "execution_count": 16,
      "outputs": []
    },
    {
      "cell_type": "code",
      "source": [
        "(img[:,:,0] == img_rgb[:,:,2]).all()"
      ],
      "metadata": {
        "colab": {
          "base_uri": "https://localhost:8080/"
        },
        "id": "Heb0WiLMIbQT",
        "outputId": "1cef0c7c-e37c-455f-86ad-e6711c8b86cc"
      },
      "execution_count": 17,
      "outputs": [
        {
          "output_type": "execute_result",
          "data": {
            "text/plain": [
              "True"
            ]
          },
          "metadata": {},
          "execution_count": 17
        }
      ]
    },
    {
      "cell_type": "markdown",
      "source": [
        "When you try to draw a rectangle box in OpenCV, be careful that the color of rectangle is also in **BGR** order."
      ],
      "metadata": {
        "id": "KwshUJ5HRKtC"
      }
    },
    {
      "cell_type": "code",
      "source": [
        "# read the image\n",
        "image = cv2.imread('logo.png')\n",
        "    \n",
        "\n",
        "# represents the top left corner of rectangle\n",
        "start_point = (5, 5)\n",
        "  \n",
        "# represents the bottom right corner of rectangle\n",
        "end_point = (20, 20)\n",
        "  \n",
        "# choose the rectangle color in BGR\n",
        "color = (0, 0, 255) # red\n",
        "  \n",
        "# thickness of lines that make up the rectangle is 2 px\n",
        "thickness = 2\n",
        "  \n",
        "# draw a rectangle with red line borders of thickness of 2 px\n",
        "image = cv2.rectangle(image, start_point, end_point, color, thickness)\n",
        "  \n",
        "# Displaying the image \n",
        "cv2_imshow(image) "
      ],
      "metadata": {
        "colab": {
          "base_uri": "https://localhost:8080/",
          "height": 116
        },
        "id": "5mETmxJrIiFt",
        "outputId": "8af61c8c-cceb-4284-d985-518d6fe959d6"
      },
      "execution_count": 18,
      "outputs": [
        {
          "output_type": "display_data",
          "data": {
            "text/plain": [
              "<PIL.Image.Image image mode=RGB size=82x99 at 0x7FD37E1F0610>"
            ],
            "image/png": "[encoded data removed]"
          },
          "metadata": {}
        }
      ]
    },
    {
      "cell_type": "code",
      "source": [
        ""
      ],
      "metadata": {
        "id": "bzUqgwp1QNz7"
      },
      "execution_count": 18,
      "outputs": []
    }
  ]
}